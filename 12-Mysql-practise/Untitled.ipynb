{
 "cells": [
  {
   "cell_type": "code",
   "execution_count": 1,
   "metadata": {
    "collapsed": true
   },
   "outputs": [],
   "source": [
    "#!/usr/bin/env python\n",
    "# coding=utf-8\n",
    "\n",
    "import sys\n",
    "reload(sys)\n",
    "sys.setdefaultencoding(\"utf-8\")\n",
    "\n",
    "\n",
    "import urllib\n",
    "import urllib2\n",
    "import json\n",
    "from bs4 import BeautifulSoup\n",
    "\n",
    "from lxml import etree\n",
    "\n",
    "# 获取 lxml 对象，解析 html\n",
    "def getpath(html):\n",
    "    return etree.HTML(html)\n",
    "\n",
    "# 获取豆瓣电影 tag 的 url\n",
    "\n",
    "url = \"https://movie.douban.com/j/search_tags?type=movie&source=\"\n",
    "\n",
    "\n",
    "\n",
    "# 定义获取 ditc 格式的url解析\n",
    "\n",
    "def get_result(url):\n",
    "\n",
    "    request = urllib2.Request(url=url)\n",
    "    response = urllib2.urlopen(request)\n",
    "    result = json.loads(response.read())\n",
    "\n",
    "    return result\n",
    "\n",
    "def get_response(url):\n",
    "    request = urllib2.Request(url=url)\n",
    "    response = urllib2.urlopen(request)\n",
    "    return response\n",
    "\n",
    "\n",
    "\n",
    "\n",
    "\n",
    "tags = get_result(url)\n",
    "\n",
    "# dict 格式的 value 是 tag\n",
    "\n",
    "tags = tags[\"tags\"]\n",
    "\n",
    "movies = []"
   ]
  },
  {
   "cell_type": "code",
   "execution_count": 2,
   "metadata": {
    "collapsed": true
   },
   "outputs": [],
   "source": [
    "for tag in tags:\n",
    "    limits = 0\n",
    "    while 1:\n",
    "\n",
    "        # 拼接获取各个 tag 下的电影 list 的 url\n",
    "\n",
    "        url_mlist = \"https://movie.douban.com/j/search_subjects?type=movie&tag=\" + tag + \\\n",
    "              \"&page_limit=20&page_start=\" + str(limits)\n",
    "\n",
    "        result_mditc = get_result(url_mlist)\n",
    "        # 获取 \"subjects\" 键下的值，是电影列表\n",
    "        mdict = result_mditc[\"subjects\"]\n",
    "\n",
    "\n",
    "        if mdict == []:\n",
    "            break\n",
    "\n",
    "        limits += 20\n",
    "        for item in mdict:\n",
    "            movies.append(item)\n",
    "\n",
    "        ##\n",
    "        break\n",
    "\n",
    "    ##\n",
    "    break"
   ]
  },
  {
   "cell_type": "code",
   "execution_count": 6,
   "metadata": {
    "collapsed": true
   },
   "outputs": [],
   "source": [
    "for n in xrange(0, len(movies)):\n",
    "    itemx = movies[n]\n",
    "\n",
    "    # respx = get_response(itemx[\"url\"])\n",
    "\n",
    "    # print type(respx)\n",
    "\n",
    "    htmlx = getpath(itemx[\"url\"])\n",
    "\n",
    "\n",
    "    S0 = htmlx.xpath('/html/head/title/text()')\n",
    "\n",
    "\n",
    "\n",
    "    S1 = htmlx.xpath('//span[@property=\"v:itemreviewed\"]/text()')\n",
    "\n",
    "    S2 = htmlx.xpath('//span[@class =\"year\"]/text()')\n",
    "\n",
    "    S3 = htmlx.xpath('//span[@class =\"pl\"]/text()')\n",
    "\n",
    "    S4 = htmlx.xpath('//comment()')\n",
    "\n",
    "\n",
    "\n",
    "    print S1\n",
    "\n",
    "    break"
   ]
  },
  {
   "cell_type": "code",
   "execution_count": null,
   "metadata": {
    "collapsed": true
   },
   "outputs": [],
   "source": []
  }
 ],
 "metadata": {
  "kernelspec": {
   "display_name": "Python 2",
   "language": "python",
   "name": "python2"
  },
  "language_info": {
   "codemirror_mode": {
    "name": "ipython",
    "version": 2
   },
   "file_extension": ".py",
   "mimetype": "text/x-python",
   "name": "python",
   "nbconvert_exporter": "python",
   "pygments_lexer": "ipython2",
   "version": "2.7.13"
  }
 },
 "nbformat": 4,
 "nbformat_minor": 2
}
